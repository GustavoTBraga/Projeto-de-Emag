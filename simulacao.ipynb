{
 "cells": [
  {
   "cell_type": "markdown",
   "metadata": {},
   "source": [
    "# **Insper - Eletromagnetismo e Ondulatória** #\n",
    "\n",
    "\n",
    "**Projeto - Vaga carregadora para o carrinho de Acionamentos Elétricos**\n",
    "\n"
   ]
  },
  {
   "cell_type": "code",
   "execution_count": 105,
   "metadata": {},
   "outputs": [],
   "source": [
    "#Vamos importar os módulos que precisamos\n",
    "from cmath import *\n",
    "from numpy import linalg\n",
    "import numpy as np"
   ]
  },
  {
   "cell_type": "markdown",
   "metadata": {},
   "source": [
    "a) Declare as variáveis do transformador ($R_1$, $R_2$, $L_1$, $L_2$) e da fonte (frequência e tensão eficaz - Ufonte)"
   ]
  },
  {
   "cell_type": "code",
   "execution_count": 106,
   "metadata": {},
   "outputs": [],
   "source": [
    "#indutâncias (H)\n",
    "L1 = 3.52\n",
    "L2 = 0.3906\n",
    "\n",
    "#capacitâncias (F)\n",
    "C1 = 1e-6\n",
    "C2 = 1e-6\n",
    "\n",
    "#resistências (ohms)\n",
    "R1 = 4.6\n",
    "R2 = 1.4\n",
    "\n",
    "#frequência (Hz)\n",
    "f = 60\n",
    "\n",
    "#tensão eficaz (V)\n",
    "Ufonte = 30.03\n"
   ]
  },
  {
   "cell_type": "markdown",
   "metadata": {},
   "source": [
    "b) Calcule na célula abaixo:\n",
    "\n",
    "- Frequência angular\n",
    "- Indutância Mútua (incluindo a constante k)\n",
    "- Reatâncias indutivas de $L_1$ e $L_2$\n",
    "- Reatância indutiva mútua\n",
    "\n",
    "Obsrvação: o número complexo $j=\\sqrt{-1}$ é nativo da linguagem Python. Para escrever $j$, digite \"1j\"\n"
   ]
  },
  {
   "cell_type": "code",
   "execution_count": 107,
   "metadata": {},
   "outputs": [],
   "source": [
    "#frequência angular (rad/s)\n",
    "w = 2*pi*f\n",
    "\n",
    "#dispersão\n",
    "k = 0.2\n",
    "\n",
    "#indutância mútua (H)\n",
    "M = k*sqrt(L1*L2)\n",
    "\n",
    "#reatâncias capacitivas (ohms)\n",
    "XC1 = 1/(1j*w*C1)\n",
    "XC2 = 1/(1j*w*C2)\n",
    "\n",
    "#reatância indutiva mútua (ohms)\n",
    "XM = 1j*w*M\n",
    "\n",
    "#reatâncias indutivas\n",
    "XL1 = 1j*w*L1\n",
    "XL2 = 1j*w*L2\n"
   ]
  },
  {
   "cell_type": "markdown",
   "metadata": {},
   "source": [
    "c) Observe a função que criamos na célula abaixo. É a mesma que você usou nas aulas 10 e 11."
   ]
  },
  {
   "cell_type": "code",
   "execution_count": 108,
   "metadata": {},
   "outputs": [],
   "source": [
    "def CalcularCorrentes(Uf, Rc):\n",
    "    Z=np.array([[R1+XL1, -XM],[-XM, XL2+R2+Rc]])\n",
    "    V=np.array([Uf,0])\n",
    "    i=np.dot(linalg.inv(Z),V)\n",
    "    return i[0], i[1]"
   ]
  },
  {
   "cell_type": "markdown",
   "metadata": {},
   "source": [
    "d) Agora calcule as correntes $i_1$ e $i_2$ para as duas condições de carga. Assim que calcular as correntes, calcule também $V_2$.\n",
    "\n",
    "IMPORTANTE: para calcular as relações $N_1/N_2$, $V_1/V_2$ e $i_2/i_1$, você precisará usar o módulo dos fasores. Para calcular o módulo de um número complexo, use \"np.abs(número complexo)\"."
   ]
  },
  {
   "cell_type": "code",
   "execution_count": 109,
   "metadata": {},
   "outputs": [
    {
     "name": "stdout",
     "output_type": "stream",
     "text": [
      "Com resistor na saída de 10.00 Ω:\n",
      "i1 (eficaz) = 0.202 A\n",
      "i2 (eficaz) = 0.580 A\n",
      "V1 (eficaz): 30.030 V\n",
      "V2 (eficaz): 5.799 V\n",
      "Relação N1/N2: 3.002\n",
      "Relação i2/i1: 2.873\n",
      "Relação V1/V2: 5.178\n"
     ]
    }
   ],
   "source": [
    "Rcarga = 5\n",
    "i1, i2 = CalcularCorrentes(Ufonte, Rcarga)\n",
    "\n",
    "print('Com resistor na saída de %.2f Ω:' %Rcarga)\n",
    "print('i1 (eficaz) = %.3f A' %np.abs(i1))\n",
    "print('i2 (eficaz) = %.3f A' %np.abs(i2))\n",
    "print('V1 (eficaz): %.3f V' %Ufonte)\n",
    "print('V2 (eficaz): %.3f V' %(np.abs(i2*Rcarga)))\n",
    "\n",
    "print('Relação N1/N2: %.3f' %(np.abs(sqrt(L1/L2))))\n",
    "print('Relação i2/i1: %.3f' %(np.abs(i2)/np.abs(i1)))\n",
    "print('Relação V1/V2: %.3f' %(np.abs(Ufonte)/np.abs(i2*Rcarga)))\n",
    "\n"
   ]
  }
 ],
 "metadata": {
  "kernelspec": {
   "display_name": "Python 3 (ipykernel)",
   "language": "python",
   "name": "python3"
  },
  "language_info": {
   "codemirror_mode": {
    "name": "ipython",
    "version": 3
   },
   "file_extension": ".py",
   "mimetype": "text/x-python",
   "name": "python",
   "nbconvert_exporter": "python",
   "pygments_lexer": "ipython3",
   "version": "3.9.13"
  }
 },
 "nbformat": 4,
 "nbformat_minor": 4
}
